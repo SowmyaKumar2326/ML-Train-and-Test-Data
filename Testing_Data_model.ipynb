{
 "cells": [
  {
   "cell_type": "code",
   "execution_count": 1,
   "id": "1f0a8635",
   "metadata": {},
   "outputs": [],
   "source": [
    "import joblib\n",
    "import pandas as pd"
   ]
  },
  {
   "cell_type": "code",
   "execution_count": 8,
   "id": "0835a4ed",
   "metadata": {},
   "outputs": [
    {
     "name": "stdout",
     "output_type": "stream",
     "text": [
      "The saved model is:LinearRegression()\n"
     ]
    }
   ],
   "source": [
    "filename = \"Train_Data_model.sav\"\n",
    "sav_model = joblib.load(filename)\n",
    "print(f\"The saved model is:{sav_model}\")"
   ]
  },
  {
   "cell_type": "code",
   "execution_count": 21,
   "id": "2c222fb3",
   "metadata": {},
   "outputs": [
    {
     "name": "stdout",
     "output_type": "stream",
     "text": [
      "The Testing Data:\n",
      "             datetime  season  holiday  workingday  weather   temp   atemp  \\\n",
      "0  2012-06-30 1:00:00       3        0           0        3  26.24  28.790   \n",
      "1  2012-06-30 2:00:00       3        0           0        2  26.24  28.790   \n",
      "2  2012-06-30 3:00:00       3        0           0        2  26.24  28.790   \n",
      "3  2012-06-30 4:00:00       3        0           0        2  25.42  27.275   \n",
      "4  2012-06-30 5:00:00       3        0           0        1  26.24  28.790   \n",
      "\n",
      "   humidity  windspeed  casual  registered  \n",
      "0      89.0    15.0013       3          55  \n",
      "1      89.0     0.0000       7          54  \n",
      "2      89.0     0.0000       3          20  \n",
      "3      94.0     0.0000       3          15  \n",
      "4      89.0    11.0014       3           7  \n",
      "(4399, 11)\n"
     ]
    }
   ],
   "source": [
    "Test_data = pd.read_csv(\"C:/Users/Sowmya Ganesh/Documents/test.csv\")\n",
    "print(\"The Testing Data:\")\n",
    "print(Test_data.head(5))\n",
    "print(Test_data.shape)"
   ]
  },
  {
   "cell_type": "raw",
   "id": "cf948150",
   "metadata": {},
   "source": [
    "X=data[[\"registered\",\"casual\",\"temp\",\"atemp\",\"weather\",\"windspeed\"]]"
   ]
  },
  {
   "cell_type": "code",
   "execution_count": 15,
   "id": "da460b8f",
   "metadata": {},
   "outputs": [],
   "source": [
    "raw_data =  Test_data[[\"registered\",\"casual\",\"temp\",\"atemp\",\"weather\",\"windspeed\"]]"
   ]
  },
  {
   "cell_type": "code",
   "execution_count": 18,
   "id": "cbea73bb",
   "metadata": {},
   "outputs": [
    {
     "data": {
      "text/plain": [
       "array([58., 61., 23., ..., 90., 61., 49.])"
      ]
     },
     "execution_count": 18,
     "metadata": {},
     "output_type": "execute_result"
    }
   ],
   "source": [
    "out = sav_model.predict(raw_data)\n",
    "out"
   ]
  },
  {
   "cell_type": "code",
   "execution_count": 25,
   "id": "4029fdca",
   "metadata": {},
   "outputs": [
    {
     "name": "stdout",
     "output_type": "stream",
     "text": [
      "Output:\n",
      "               datetime  Predicted_Result\n",
      "0    2012-06-30 1:00:00              58.0\n",
      "1    2012-06-30 2:00:00              61.0\n",
      "2    2012-06-30 3:00:00              23.0\n",
      "3    2012-06-30 4:00:00              18.0\n",
      "4    2012-06-30 5:00:00              10.0\n",
      "5    2012-06-30 6:00:00              42.0\n",
      "6    2012-06-30 7:00:00              92.0\n",
      "7    2012-06-30 8:00:00             194.0\n",
      "8    2012-06-30 9:00:00             275.0\n",
      "9   2012-06-30 10:00:00             404.0\n",
      "10  2012-06-30 11:00:00             452.0\n",
      "11  2012-06-30 12:00:00             471.0\n",
      "12  2012-06-30 13:00:00             428.0\n",
      "13  2012-06-30 14:00:00             409.0\n",
      "14  2012-06-30 15:00:00             404.0\n",
      "15  2012-06-30 16:00:00             373.0\n",
      "16  2012-06-30 17:00:00             362.0\n",
      "17  2012-06-30 18:00:00             339.0\n",
      "18  2012-06-30 19:00:00             374.0\n",
      "19  2012-06-30 20:00:00             292.0\n",
      "20  2012-06-30 21:00:00             213.0\n",
      "21  2012-06-30 22:00:00             172.0\n",
      "22  2012-06-30 23:00:00             152.0\n",
      "23   2012-07-01 0:00:00             149.0\n",
      "24   2012-07-01 1:00:00              93.0\n",
      "25   2012-07-01 2:00:00              90.0\n",
      "26   2012-07-01 3:00:00              33.0\n",
      "27   2012-07-01 4:00:00               4.0\n",
      "28   2012-07-01 5:00:00              10.0\n",
      "29   2012-07-01 6:00:00              27.0\n",
      "30   2012-07-01 7:00:00              50.0\n",
      "31   2012-07-01 8:00:00             142.0\n",
      "32   2012-07-01 9:00:00             219.0\n",
      "33  2012-07-01 10:00:00             366.0\n",
      "34  2012-07-01 11:00:00             377.0\n",
      "35  2012-07-01 12:00:00             433.0\n",
      "36  2012-07-01 13:00:00             420.0\n",
      "37  2012-07-01 14:00:00             444.0\n",
      "38  2012-07-01 15:00:00             345.0\n",
      "39  2012-07-01 16:00:00             313.0\n",
      "40  2012-07-01 17:00:00             413.0\n",
      "41  2012-07-01 18:00:00             370.0\n",
      "42  2012-07-01 19:00:00             382.0\n",
      "43  2012-07-01 20:00:00             332.0\n",
      "44  2012-07-01 21:00:00             258.0\n",
      "45  2012-07-01 22:00:00             151.0\n",
      "46  2012-07-01 23:00:00             110.0\n",
      "47   2012-07-02 0:00:00              43.0\n",
      "48   2012-07-02 1:00:00              17.0\n",
      "49   2012-07-02 2:00:00              15.0\n"
     ]
    }
   ],
   "source": [
    "print(\"Output:\")\n",
    "output=pd.DataFrame({'datetime':Test_data['datetime'],\n",
    "                      'Predicted_Result':out})\n",
    "print(output.head(50))\n",
    "    "
   ]
  }
 ],
 "metadata": {
  "kernelspec": {
   "display_name": "Python 3 (ipykernel)",
   "language": "python",
   "name": "python3"
  },
  "language_info": {
   "codemirror_mode": {
    "name": "ipython",
    "version": 3
   },
   "file_extension": ".py",
   "mimetype": "text/x-python",
   "name": "python",
   "nbconvert_exporter": "python",
   "pygments_lexer": "ipython3",
   "version": "3.11.5"
  }
 },
 "nbformat": 4,
 "nbformat_minor": 5
}
