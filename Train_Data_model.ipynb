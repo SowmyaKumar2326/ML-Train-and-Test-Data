{
 "cells": [
  {
   "cell_type": "code",
   "execution_count": 15,
   "id": "dd4e53bb",
   "metadata": {},
   "outputs": [
    {
     "name": "stdout",
     "output_type": "stream",
     "text": [
      "The accuracy of the model is 1.0\n",
      "The Multiple Linear Regression model is saved.\n"
     ]
    }
   ],
   "source": [
    "import pandas as pd\n",
    "from sklearn.model_selection import train_test_split\n",
    "from sklearn.linear_model import LinearRegression\n",
    "from sklearn.metrics import r2_score,mean_squared_log_error\n",
    "import os\n",
    "\n",
    "def read_data():\n",
    "    try:\n",
    "        path = \"C:/Users/Sowmya Ganesh/Documents/train.csv\"\n",
    "        data = pd.read_csv(path)\n",
    "        return data\n",
    "    except Exception as e:\n",
    "        print(e)\n",
    "    \n",
    "def data_prep(data):\n",
    "    X=data[[\"registered\",\"casual\",\"temp\",\"atemp\",\"weather\",\"windspeed\"]]\n",
    "    y=data[\"count\"]\n",
    "    return X,y\n",
    "            \n",
    "def train_test(X,y):\n",
    "    X_train,X_test,y_train,y_test = train_test_split(X,y,test_size=0.2,random_state=123)\n",
    "    return X_train,X_test,y_train,y_test\n",
    "\n",
    "def lin_model(X_train,X_test,y_train,y_test):\n",
    "    model = LinearRegression()\n",
    "    model_fit = model.fit(X_train,y_train)\n",
    "    y_test = y_test\n",
    "    pred = model_fit.predict(X_test)\n",
    "    return pred\n",
    "\n",
    "def save_model(X_train,X_test,y_train,y_test):\n",
    "    model = LinearRegression()\n",
    "    model_fit = model.fit(X_train,y_train)\n",
    "    y_test = y_test\n",
    "    pred = model_fit.predict(X_test)\n",
    "    return model\n",
    "\n",
    "def metric_function(y_test,pred):\n",
    "    r2 = round((r2_score(y_test,pred)),2)\n",
    "    rmsle = round((mean_squared_log_error(y_test,pred)),2)  \n",
    "    return r2\n",
    "    \n",
    "def main_function():\n",
    "    data = read_data()\n",
    "    X,y = data_prep(data)\n",
    "    X_train,X_test,y_train,y_test = train_test(X,y)\n",
    "    pred = lin_model(X_train,X_test,y_train,y_test)\n",
    "    accuracy = metric_function(y_test,pred)     \n",
    "    return accuracy\n",
    "\n",
    "\n",
    "result = main_function()\n",
    "print(f\"The accuracy of the model is {result}\")\n",
    "    \n",
    "import joblib\n",
    "data = read_data()\n",
    "X,y = data_prep(data)\n",
    "X_train,X_test,y_train,y_test = train_test(X,y)\n",
    "model = save_model(X_train,X_test,y_train,y_test)\n",
    "\n",
    "joblib.dump(model,'Train_Data_model.sav')\n",
    "print(\"The Multiple Linear Regression model is saved.\")\n",
    "   \n",
    "    "
   ]
  },
  {
   "cell_type": "code",
   "execution_count": null,
   "id": "ae327d33",
   "metadata": {},
   "outputs": [],
   "source": []
  },
  {
   "cell_type": "code",
   "execution_count": null,
   "id": "685da8ce",
   "metadata": {},
   "outputs": [],
   "source": []
  },
  {
   "cell_type": "code",
   "execution_count": null,
   "id": "7abf3f2e",
   "metadata": {},
   "outputs": [],
   "source": []
  },
  {
   "cell_type": "code",
   "execution_count": null,
   "id": "f6ee487c",
   "metadata": {},
   "outputs": [],
   "source": []
  },
  {
   "cell_type": "code",
   "execution_count": null,
   "id": "8dbedf14",
   "metadata": {},
   "outputs": [],
   "source": []
  },
  {
   "cell_type": "code",
   "execution_count": null,
   "id": "ddf44d3c",
   "metadata": {},
   "outputs": [],
   "source": []
  },
  {
   "cell_type": "code",
   "execution_count": null,
   "id": "c999bcf7",
   "metadata": {},
   "outputs": [],
   "source": []
  },
  {
   "cell_type": "code",
   "execution_count": null,
   "id": "035e56b9",
   "metadata": {},
   "outputs": [],
   "source": []
  },
  {
   "cell_type": "code",
   "execution_count": null,
   "id": "ecfa57e8",
   "metadata": {},
   "outputs": [],
   "source": []
  },
  {
   "cell_type": "code",
   "execution_count": null,
   "id": "f5ef7d05",
   "metadata": {},
   "outputs": [],
   "source": []
  },
  {
   "cell_type": "code",
   "execution_count": null,
   "id": "43f93522",
   "metadata": {},
   "outputs": [],
   "source": []
  },
  {
   "cell_type": "code",
   "execution_count": null,
   "id": "4e6955ef",
   "metadata": {},
   "outputs": [],
   "source": []
  }
 ],
 "metadata": {
  "kernelspec": {
   "display_name": "Python 3 (ipykernel)",
   "language": "python",
   "name": "python3"
  },
  "language_info": {
   "codemirror_mode": {
    "name": "ipython",
    "version": 3
   },
   "file_extension": ".py",
   "mimetype": "text/x-python",
   "name": "python",
   "nbconvert_exporter": "python",
   "pygments_lexer": "ipython3",
   "version": "3.11.5"
  }
 },
 "nbformat": 4,
 "nbformat_minor": 5
}
