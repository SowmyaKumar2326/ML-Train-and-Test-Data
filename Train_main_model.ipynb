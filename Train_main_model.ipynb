{
 "cells": [
  {
   "cell_type": "code",
   "execution_count": 2,
   "id": "b8ee56c4",
   "metadata": {},
   "outputs": [],
   "source": [
    "#!pip install import-ipynb"
   ]
  },
  {
   "cell_type": "code",
   "execution_count": 6,
   "id": "11f1cb17",
   "metadata": {},
   "outputs": [
    {
     "name": "stdout",
     "output_type": "stream",
     "text": [
      "The Accuracy of the model is 100.0%\n"
     ]
    }
   ],
   "source": [
    "import import_ipynb\n",
    "from Train_Datamodel import main_function\n",
    "\n",
    "marks = main_function() * 100\n",
    "print(f\"The Accuracy of the model is {marks}%\")"
   ]
  }
 ],
 "metadata": {
  "kernelspec": {
   "display_name": "Python 3 (ipykernel)",
   "language": "python",
   "name": "python3"
  },
  "language_info": {
   "codemirror_mode": {
    "name": "ipython",
    "version": 3
   },
   "file_extension": ".py",
   "mimetype": "text/x-python",
   "name": "python",
   "nbconvert_exporter": "python",
   "pygments_lexer": "ipython3",
   "version": "3.11.5"
  }
 },
 "nbformat": 4,
 "nbformat_minor": 5
}
